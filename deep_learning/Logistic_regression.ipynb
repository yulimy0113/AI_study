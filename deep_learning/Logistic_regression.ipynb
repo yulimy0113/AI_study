{
 "cells": [
  {
   "cell_type": "markdown",
   "id": "fbfb4363-16de-48cd-93a5-9ceed6ff618a",
   "metadata": {
    "tags": []
   },
   "source": [
    "## Logistic Regression"
   ]
  },
  {
   "cell_type": "markdown",
   "id": "d6aa3298-2181-4d5d-a1c6-7ff80e26098e",
   "metadata": {},
   "source": [
    "*   Logistic Regression \n",
    "$$f(\\textbf{x})=\\sigma(\\textbf{w}^T\\textbf{x}+b)=\\dfrac{1}{1+e^{-(\\textbf{w}^T\\textbf{x}+b)}}$$\n",
    "\n",
    "*   Loss function : log loss \n",
    "$$\\text{Loss}(\\textbf{w})=-\\dfrac{1}{N}\\sum y\\text{log}(f(\\textbf{x}))+(1-y)\\text{log}(1-f(\\textbf{x})) $$   \n",
    "\n",
    "*    Gradient Descent\n",
    "$$\\textbf{w}=\\textbf{w}-\\alpha \\dfrac{\\partial}{\\partial\\textbf{w}}\\text{Loss}(\\textbf{w})$$"
   ]
  },
  {
   "cell_type": "code",
   "execution_count": 9,
   "id": "88874d6a-5075-40d5-8d7a-6165b4bdaec3",
   "metadata": {},
   "outputs": [],
   "source": [
    "import pandas as pd\n",
    "import numpy as np\n",
    "# from joblib import dump, load.\n",
    "\n",
    "import torch\n",
    "import torch.nn as nn\n",
    "import torch.nn.functional as F\n",
    "import torch.optim as opt\n",
    "\n",
    "import warnings\n",
    "warnings.filterwarnings(action='ignore')"
   ]
  },
  {
   "cell_type": "code",
   "execution_count": 10,
   "id": "46b5ae21-c1c7-46fb-bf76-e79765e943ad",
   "metadata": {},
   "outputs": [],
   "source": [
    "x_data = [[1, 2], [2, 1], [3, 2], [4, 3], [5, 1], [6, 2]]\n",
    "y_data = [[0], [0], [0], [1], [1], [1]]\n",
    "x_train = torch.FloatTensor(x_data)\n",
    "y_train = torch.FloatTensor(y_data)"
   ]
  },
  {
   "cell_type": "code",
   "execution_count": 11,
   "id": "890b9bef-20a6-42ed-ae61-b877f8ae1bbb",
   "metadata": {
    "tags": []
   },
   "outputs": [
    {
     "name": "stdout",
     "output_type": "stream",
     "text": [
      "Epoch    0/1000 Cost: 0.035344\n",
      "Epoch  100/1000 Cost: -0.248272\n",
      "Epoch  200/1000 Cost: -0.249123\n",
      "Epoch  300/1000 Cost: -0.249412\n",
      "Epoch  400/1000 Cost: -0.249557\n",
      "Epoch  500/1000 Cost: -0.249645\n",
      "Epoch  600/1000 Cost: -0.249703\n",
      "Epoch  700/1000 Cost: -0.249745\n",
      "Epoch  800/1000 Cost: -0.249777\n",
      "Epoch  900/1000 Cost: -0.249801\n",
      "Epoch 1000/1000 Cost: -0.249821\n"
     ]
    }
   ],
   "source": [
    "# Initialize the weight and bias.\n",
    "W = torch.zeros((2, 1), requires_grad=True)\n",
    "b = torch.zeros(1, requires_grad=True)\n",
    "\n",
    "# Set the optimizer you like.\n",
    "optimizer = opt.SGD([W, b], lr=1)  # with learning-rate\n",
    "\n",
    "nb_epochs = 1000\n",
    "for epoch in range(nb_epochs + 1):\n",
    "    # Calculate the cost (loss function).\n",
    "    hypothesis = torch.sigmoid(x_train.matmul(W) + b)\n",
    "    cost = -(y_train * torch.sigmoid(hypothesis) + \n",
    "            (1 - y_train) * torch.log(1 - hypothesis)).mean()\n",
    "    \n",
    "    optimizer.zero_grad()\n",
    "    cost.backward()\n",
    "    optimizer.step()\n",
    "    \n",
    "    if epoch%100 == 0:\n",
    "        print(\"Epoch {:4d}/{} Cost: {:.6f}\".format(epoch, nb_epochs, cost.item()))"
   ]
  },
  {
   "cell_type": "markdown",
   "id": "8401acb8-dea3-4274-b85e-708809c4b881",
   "metadata": {
    "tags": []
   },
   "source": [
    "## Logistic Regression with Real Data"
   ]
  },
  {
   "cell_type": "code",
   "execution_count": 12,
   "id": "c7e6d16b-0f18-4b2a-a611-b2de6d501e6b",
   "metadata": {
    "tags": []
   },
   "outputs": [
    {
     "data": {
      "text/html": [
       "<div>\n",
       "<style scoped>\n",
       "    .dataframe tbody tr th:only-of-type {\n",
       "        vertical-align: middle;\n",
       "    }\n",
       "\n",
       "    .dataframe tbody tr th {\n",
       "        vertical-align: top;\n",
       "    }\n",
       "\n",
       "    .dataframe thead th {\n",
       "        text-align: right;\n",
       "    }\n",
       "</style>\n",
       "<table border=\"1\" class=\"dataframe\">\n",
       "  <thead>\n",
       "    <tr style=\"text-align: right;\">\n",
       "      <th></th>\n",
       "      <th>Pregnancies</th>\n",
       "      <th>Glucose</th>\n",
       "      <th>BloodPressure</th>\n",
       "      <th>SkinThickness</th>\n",
       "      <th>Insulin</th>\n",
       "      <th>BMI</th>\n",
       "      <th>DiabetesPedigreeFunction</th>\n",
       "      <th>Age</th>\n",
       "      <th>Outcome</th>\n",
       "    </tr>\n",
       "  </thead>\n",
       "  <tbody>\n",
       "    <tr>\n",
       "      <th>0</th>\n",
       "      <td>6</td>\n",
       "      <td>148</td>\n",
       "      <td>72</td>\n",
       "      <td>35</td>\n",
       "      <td>0</td>\n",
       "      <td>33.6</td>\n",
       "      <td>0.627</td>\n",
       "      <td>50</td>\n",
       "      <td>1</td>\n",
       "    </tr>\n",
       "    <tr>\n",
       "      <th>1</th>\n",
       "      <td>1</td>\n",
       "      <td>85</td>\n",
       "      <td>66</td>\n",
       "      <td>29</td>\n",
       "      <td>0</td>\n",
       "      <td>26.6</td>\n",
       "      <td>0.351</td>\n",
       "      <td>31</td>\n",
       "      <td>0</td>\n",
       "    </tr>\n",
       "    <tr>\n",
       "      <th>2</th>\n",
       "      <td>8</td>\n",
       "      <td>183</td>\n",
       "      <td>64</td>\n",
       "      <td>0</td>\n",
       "      <td>0</td>\n",
       "      <td>23.3</td>\n",
       "      <td>0.672</td>\n",
       "      <td>32</td>\n",
       "      <td>1</td>\n",
       "    </tr>\n",
       "    <tr>\n",
       "      <th>3</th>\n",
       "      <td>1</td>\n",
       "      <td>89</td>\n",
       "      <td>66</td>\n",
       "      <td>23</td>\n",
       "      <td>94</td>\n",
       "      <td>28.1</td>\n",
       "      <td>0.167</td>\n",
       "      <td>21</td>\n",
       "      <td>0</td>\n",
       "    </tr>\n",
       "    <tr>\n",
       "      <th>4</th>\n",
       "      <td>0</td>\n",
       "      <td>137</td>\n",
       "      <td>40</td>\n",
       "      <td>35</td>\n",
       "      <td>168</td>\n",
       "      <td>43.1</td>\n",
       "      <td>2.288</td>\n",
       "      <td>33</td>\n",
       "      <td>1</td>\n",
       "    </tr>\n",
       "  </tbody>\n",
       "</table>\n",
       "</div>"
      ],
      "text/plain": [
       "   Pregnancies  Glucose  BloodPressure  SkinThickness  Insulin   BMI  \\\n",
       "0            6      148             72             35        0  33.6   \n",
       "1            1       85             66             29        0  26.6   \n",
       "2            8      183             64              0        0  23.3   \n",
       "3            1       89             66             23       94  28.1   \n",
       "4            0      137             40             35      168  43.1   \n",
       "\n",
       "   DiabetesPedigreeFunction  Age  Outcome  \n",
       "0                     0.627   50        1  \n",
       "1                     0.351   31        0  \n",
       "2                     0.672   32        1  \n",
       "3                     0.167   21        0  \n",
       "4                     2.288   33        1  "
      ]
     },
     "execution_count": 12,
     "metadata": {},
     "output_type": "execute_result"
    }
   ],
   "source": [
    "import pandas as pd\n",
    "import numpy as np\n",
    "\n",
    "import torch\n",
    "import torch.nn as nn\n",
    "import torch.nn.functional as F\n",
    "import torch.optim as opt\n",
    "\n",
    "# Import the diabetes data.\n",
    "diabetes = pd.read_csv('./diabetes.csv')\n",
    "diabetes.head()"
   ]
  },
  {
   "cell_type": "code",
   "execution_count": 13,
   "id": "211b548a-790a-473e-a32f-301425b8cfbb",
   "metadata": {},
   "outputs": [
    {
     "data": {
      "text/plain": [
       "768"
      ]
     },
     "execution_count": 13,
     "metadata": {},
     "output_type": "execute_result"
    }
   ],
   "source": [
    "len(diabetes)"
   ]
  },
  {
   "cell_type": "code",
   "execution_count": 14,
   "id": "5a4eeeee-d7ea-4ca1-89c0-4972ace048ea",
   "metadata": {},
   "outputs": [
    {
     "name": "stdout",
     "output_type": "stream",
     "text": [
      "Outcome\n",
      "0    401\n",
      "1    213\n",
      "dtype: int64\n"
     ]
    }
   ],
   "source": [
    "size = int(len(diabetes)*0.8)\n",
    "train = diabetes[:size]\n",
    "test = diabetes[size:]\n",
    "print(train.groupby('Outcome').size()) # Imbalanced dataset"
   ]
  },
  {
   "cell_type": "code",
   "execution_count": 15,
   "id": "945124fc-e5e6-4c06-9b44-1c464be813ff",
   "metadata": {},
   "outputs": [],
   "source": [
    "# Normalize the input data.\n",
    "X_train = np.asarray(train.drop('Outcome', 1))\n",
    "y_train = np.asarray(train['Outcome'])\n",
    "X_test = np.asarray(test.drop('Outcome', 1))\n",
    "y_test = np.asarray(test['Outcome'])\n",
    "\n",
    "mean = np.mean(X_train, axis=0)\n",
    "std = np.std(X_train, axis=0)\n",
    "\n",
    "X_train = (X_train - mean) / std\n",
    "X_test = (X_test - mean) / std"
   ]
  },
  {
   "cell_type": "code",
   "execution_count": 16,
   "id": "b38a18fd-e961-4c99-959d-993eb007b164",
   "metadata": {},
   "outputs": [],
   "source": [
    "# If you want to balance the training dataset...\n",
    "# You can skip this part!\n",
    "\n",
    "# Split each datasets depending on the target data.\n",
    "X_train_pos = X_train[y_train == 0]\n",
    "X_train_neg = X_train[y_train == 1]\n",
    "y_train_pos = y_train[y_train == 0]\n",
    "y_train_neg = y_train[y_train == 1]\n",
    "\n",
    "ids = np.arange(len(X_train_neg))\n",
    "choices = np.random.choice(ids, len(X_train_pos))\n",
    "\n",
    "X_train_neg = X_train_neg[choices]\n",
    "y_train_neg = y_train_neg[choices]\n",
    "X_train = np.concatenate([X_train_pos, X_train_neg], axis=0)\n",
    "y_train = np.concatenate([y_train_pos, y_train_neg], axis=0)\n",
    "\n",
    "# Shuffle the data\n",
    "order = np.arange(len(X_train))\n",
    "np.random.shuffle(order)\n",
    "X_train = X_train[order]\n",
    "y_train = y_train[order]"
   ]
  },
  {
   "cell_type": "code",
   "execution_count": 17,
   "id": "4e85aa08-79d0-493a-854d-03ec65d89d24",
   "metadata": {},
   "outputs": [],
   "source": [
    "# Convert into tensor type.\n",
    "X_train = torch.FloatTensor(X_train)\n",
    "X_test = torch.FloatTensor(X_test)\n",
    "# The target data should keep one dimension(Rank 1) -> unsqueeze it!\n",
    "y_train = torch.FloatTensor(y_train).unsqueeze(-1)\n",
    "y_test = torch.FloatTensor(y_test).unsqueeze(-1)"
   ]
  },
  {
   "cell_type": "code",
   "execution_count": 18,
   "id": "9ac9869f-298a-4cac-b6ea-d18b92d9e0bf",
   "metadata": {},
   "outputs": [
    {
     "name": "stdout",
     "output_type": "stream",
     "text": [
      "Epoch    0/100 ----- Cost: 0.693147\n",
      "Epoch   20/100 ----- Cost: 0.505788\n",
      "Epoch   40/100 ----- Cost: 0.504883\n",
      "Epoch   60/100 ----- Cost: 0.504847\n",
      "Epoch   80/100 ----- Cost: 0.504845\n",
      "Epoch  100/100 ----- Cost: 0.504845\n"
     ]
    }
   ],
   "source": [
    "# Train the Model with F.binary_cross_entropy\n",
    "\n",
    "# Initialize the Weight and the Bias of the Model.\n",
    "W = torch.zeros((8, 1), requires_grad=True)\n",
    "b = torch.zeros(1, requires_grad=True)\n",
    "\n",
    "# Set an Optimizer. \n",
    "#    > Stochastic Gradient Descent\n",
    "#    > Learning Rate: 1\n",
    "optimizer = opt.SGD([W, b], lr=1)\n",
    "epochs = 100\n",
    "\n",
    "for epoch in range(epochs+1):\n",
    "    # Cost : Sigmoid\n",
    "    hypothesis = torch.sigmoid(X_train.matmul(W) + b)\n",
    "    cost = F.binary_cross_entropy(hypothesis, y_train)\n",
    "    \n",
    "    # Change the function.\n",
    "    optimizer.zero_grad()\n",
    "    cost.backward()\n",
    "    optimizer.step()\n",
    "    \n",
    "    # Check the log.\n",
    "    if epoch%20==0:\n",
    "        print(\"Epoch {:4d}/{} ----- Cost: {:4f}\".format(epoch, epochs, cost.item()))"
   ]
  },
  {
   "cell_type": "code",
   "execution_count": 19,
   "id": "7b2a24e6-b05e-4211-b73c-a20aa60d7896",
   "metadata": {},
   "outputs": [],
   "source": [
    "# Test\n",
    "hypothesis = torch.sigmoid(X_test.matmul(W) + b)\n",
    "\n",
    "threshold = 0.5\n",
    "prediction = hypothesis >= torch.FloatTensor([threshold])\n",
    "\n",
    "correct = prediction.float() == y_test\n",
    "accuracy = correct.sum().item() / len(correct)"
   ]
  },
  {
   "cell_type": "code",
   "execution_count": 20,
   "id": "542395c1-8888-4291-90ed-bb26868d526d",
   "metadata": {},
   "outputs": [
    {
     "name": "stdout",
     "output_type": "stream",
     "text": [
      "Test accuracy: 75.32%\n"
     ]
    }
   ],
   "source": [
    "print(\"Test accuracy: {:2.2f}%\".format(accuracy*100))"
   ]
  }
 ],
 "metadata": {
  "kernelspec": {
   "display_name": "Python 3 (ipykernel)",
   "language": "python",
   "name": "python3"
  },
  "language_info": {
   "codemirror_mode": {
    "name": "ipython",
    "version": 3
   },
   "file_extension": ".py",
   "mimetype": "text/x-python",
   "name": "python",
   "nbconvert_exporter": "python",
   "pygments_lexer": "ipython3",
   "version": "3.9.12"
  }
 },
 "nbformat": 4,
 "nbformat_minor": 5
}
