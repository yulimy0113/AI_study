{
 "cells": [
  {
   "cell_type": "markdown",
   "id": "3bfa6040-1bc2-4252-a385-cee4ec02bda3",
   "metadata": {},
   "source": [
    "## Classification of MNIST with CNN"
   ]
  },
  {
   "cell_type": "markdown",
   "id": "72a00f4a-f9f4-4977-a629-2339431cbac3",
   "metadata": {},
   "source": [
    ": Convolutional Neural Network"
   ]
  },
  {
   "cell_type": "code",
   "execution_count": 21,
   "id": "95b18110-dc0d-4e7e-8030-fcd748877ef1",
   "metadata": {},
   "outputs": [],
   "source": [
    "import os\n",
    "import time\n",
    "import numpy as np\n",
    "\n",
    "import torch\n",
    "from torch import nn\n",
    "from torch.utils.data import Dataset, DataLoader\n",
    "from torchvision import datasets, transforms\n",
    "import matplotlib.pyplot as plt\n",
    "\n",
    "import warnings\n",
    "warnings.filterwarnings(action='ignore', category=FutureWarning)"
   ]
  },
  {
   "cell_type": "code",
   "execution_count": 2,
   "id": "c930b7e5-5f87-416a-bae0-fa24a2905675",
   "metadata": {},
   "outputs": [
    {
     "data": {
      "text/plain": [
       "'cpu'"
      ]
     },
     "execution_count": 2,
     "metadata": {},
     "output_type": "execute_result"
    }
   ],
   "source": [
    "device = \"cuda\" if torch.cuda.is_available() else \"cpu\"\n",
    "device"
   ]
  },
  {
   "cell_type": "markdown",
   "id": "64221440-49e5-4377-a63e-42663e5cad33",
   "metadata": {
    "tags": []
   },
   "source": [
    "### Data Load"
   ]
  },
  {
   "cell_type": "code",
   "execution_count": 8,
   "id": "577dba79-a3ad-405f-9a1c-259fc998ec85",
   "metadata": {},
   "outputs": [],
   "source": [
    "mnist_train = datasets.MNIST(\n",
    "    root=\"mnist\", \n",
    "    train=True, \n",
    "    download=True, \n",
    "    transform=transforms.ToTensor()\n",
    ")\n",
    "mnist_test = datasets.MNIST(\n",
    "    root=\"mnist\", \n",
    "    train=False, \n",
    "    download=True, \n",
    "    transform=transforms.ToTensor()\n",
    ")"
   ]
  },
  {
   "cell_type": "markdown",
   "id": "cf398474-ea0f-44f0-a00c-d8184d17a7af",
   "metadata": {},
   "source": [
    "### Preprocess"
   ]
  },
  {
   "cell_type": "code",
   "execution_count": 9,
   "id": "bdc6c074-6091-4d46-ba87-9b26b82452f3",
   "metadata": {},
   "outputs": [],
   "source": [
    "class mnist_dataset(Dataset):\n",
    "    \"\"\"\n",
    "    It returns a transformed pair of data and target if you input index value.\n",
    "    \"\"\"\n",
    "    def __init__(self, data, targets, transform=None, target_transform=None):\n",
    "        super().__init__()\n",
    "\n",
    "        self.data = data\n",
    "        self.targets = targets\n",
    "        self.transform = transform\n",
    "        self.target_transform = target_transform\n",
    "\n",
    "    def __len__(self):\n",
    "        return len(self.data)\n",
    "\n",
    "    def __getitem__(self, idx):\n",
    "        x, y = self.data[idx], self.targets[idx]\n",
    "        if self.transform:\n",
    "            x = self.transform(x)\n",
    "        if self.target_transform:\n",
    "            y = self.target_transform(y)\n",
    "\n",
    "        return x, y"
   ]
  },
  {
   "cell_type": "code",
   "execution_count": 10,
   "id": "3671f8ea-e867-4343-a3ab-9d2f52dd3eb8",
   "metadata": {},
   "outputs": [],
   "source": [
    "def split_train_valid(dataset, valid_ratio=0.1):\n",
    "    \"\"\"\n",
    "    A function that creates validation dataset from training dataset.\n",
    "    \"\"\"\n",
    "    n_valid = int(len(dataset) * valid_ratio)\n",
    "\n",
    "    train_data = np.array(dataset.data[:-n_valid])\n",
    "    valid_data = np.array(dataset.data[-n_valid:])\n",
    "    train_targets = dataset.targets[:-n_valid]\n",
    "    valid_targets = dataset.targets[-n_valid:]\n",
    "\n",
    "    train = mnist_dataset(data=train_data, \n",
    "                          targets=train_targets, \n",
    "                          transform=dataset.transform, \n",
    "                          target_transform=dataset.target_transform)\n",
    "    valid = mnist_dataset(data=valid_data, \n",
    "                          targets=valid_targets, \n",
    "                          transform=dataset.transform, \n",
    "                          target_transform=dataset.target_transform)\n",
    "\n",
    "    return train, valid"
   ]
  },
  {
   "cell_type": "code",
   "execution_count": 11,
   "id": "a9955a86-8697-473d-8ec7-968d09afbb97",
   "metadata": {},
   "outputs": [
    {
     "name": "stdout",
     "output_type": "stream",
     "text": [
      "Dataset MNIST\n",
      "    Number of datapoints: 60000\n",
      "    Root location: mnist\n",
      "    Split: Train\n",
      "    StandardTransform\n",
      "Transform: ToTensor()\n"
     ]
    }
   ],
   "source": [
    "print(mnist_train)"
   ]
  },
  {
   "cell_type": "code",
   "execution_count": 12,
   "id": "59588eea-e855-4b0a-a5b4-a43b8a65453d",
   "metadata": {},
   "outputs": [],
   "source": [
    "mnist_train, mnist_valid = split_train_valid(dataset=mnist_train)"
   ]
  },
  {
   "cell_type": "code",
   "execution_count": 13,
   "id": "88d55944-5305-4570-9b29-7b41bcf46dbf",
   "metadata": {},
   "outputs": [],
   "source": [
    "# It is better to shuffle if the dataset is for training.\n",
    "train_loader = DataLoader(dataset=mnist_train, \n",
    "                          batch_size=64, \n",
    "                          shuffle=True, \n",
    "                          drop_last=True) \n",
    "valid_loader = DataLoader(dataset=mnist_valid, \n",
    "                          batch_size=64, \n",
    "                          shuffle=False, \n",
    "                          drop_last=True)   \n",
    "test_loader = DataLoader(dataset=mnist_test, \n",
    "                         batch_size=64, \n",
    "                         shuffle=False, \n",
    "                         drop_last=True)"
   ]
  },
  {
   "cell_type": "code",
   "execution_count": 15,
   "id": "534ba053-137e-4759-beab-6ea081db9876",
   "metadata": {},
   "outputs": [
    {
     "data": {
      "image/png": "[encoded data removed]",
      "text/plain": [
       "<Figure size 800x800 with 9 Axes>"
      ]
     },
     "metadata": {},
     "output_type": "display_data"
    }
   ],
   "source": [
    "# Check the images.\n",
    "fig = plt.figure(figsize=(8, 8))\n",
    "for i in range(9):\n",
    "    img = mnist_train[i][0]\n",
    "    ax = fig.add_subplot(3, 3, i+1)\n",
    "    ax.imshow(img.reshape(28, 28), cmap=\"gray\")"
   ]
  },
  {
   "cell_type": "markdown",
   "id": "8edf781f-4d3d-452a-bfcc-97e3c950cd4f",
   "metadata": {},
   "source": [
    "### Model"
   ]
  },
  {
   "cell_type": "code",
   "execution_count": 16,
   "id": "e29edf0f-1521-421b-ad71-e8771d615956",
   "metadata": {},
   "outputs": [],
   "source": [
    "class SimpleCNNClassifier(nn.Module):\n",
    "    def __init__(self, n_class=10):\n",
    "        super().__init__()\n",
    "\n",
    "        ## Separate each layers to visualize filters\n",
    "        ## nn.Conv2d : https://pytorch.org/docs/stable/generated/torch.nn.Conv2d\n",
    "        ## nn.Maxpool2d : https://pytorch.org/docs/stable/generated/torch.nn.MaxPool2d\n",
    "        self.conv1 = nn.Conv2d(in_channels=1, out_channels=32, kernel_size=5, stride=1, padding=2)\n",
    "        self.conv2 = nn.Conv2d(32, 32, 3, stride=1, padding=1)\n",
    "        self.conv3 = nn.Conv2d(32, 32, 3, stride=1, padding=1)\n",
    "        self.relu = nn.ReLU()\n",
    "        self.pool = nn.MaxPool2d(kernel_size=2, stride=2, padding=0)\n",
    "        self.flatten = nn.Flatten()\n",
    "        self.fc1 = nn.Linear(3*3*32, 32)\n",
    "        self.fc2 = nn.Linear(32, 10) \n",
    "        # You can also build a model with nn.Sequential.\n",
    "\n",
    "    def forward(self, x, visualize_filter=False):\n",
    "        conv1 = self.conv1(x)\n",
    "        _conv1 = self.pool(self.relu(conv1))\n",
    "        conv2 = self.conv2(_conv1)\n",
    "        _conv2 = self.pool(self.relu(conv2))\n",
    "        conv3 = self.conv3(_conv2)\n",
    "        _conv3 = self.pool(self.relu(conv3))\n",
    "        conv3_vec = self.flatten(_conv3)\n",
    "        fc1 = self.fc1(conv3_vec)\n",
    "        out = self.fc2(self.relu(fc1))\n",
    "\n",
    "        # If you use nn.Sequential,\n",
    "        # out = self.mode(x)\n",
    "\n",
    "        if not visualize_filter:    # In general\n",
    "            return out\n",
    "        else:                       # If you want the check the convolutional filter\n",
    "            return conv1, conv2, conv3,out"
   ]
  },
  {
   "cell_type": "code",
   "execution_count": 17,
   "id": "a76b8eb3-ac30-4b30-a248-e7c7a854e307",
   "metadata": {},
   "outputs": [],
   "source": [
    "cnn = SimpleCNNClassifier()"
   ]
  },
  {
   "cell_type": "code",
   "execution_count": 19,
   "id": "556ba726-7d89-4261-8dd1-793e6fe823b2",
   "metadata": {},
   "outputs": [
    {
     "name": "stdout",
     "output_type": "stream",
     "text": [
      "Shape of sample: torch.Size([1, 1, 28, 28])\n",
      "torch.Size([1, 32, 28, 28]) torch.Size([1, 32, 14, 14]) torch.Size([1, 32, 7, 7]) torch.Size([1, 10])\n"
     ]
    }
   ],
   "source": [
    "# Check the structure of the CNN model.\n",
    "sample_x = mnist_valid[0][0].unsqueeze(dim=0)\n",
    "print(\"Shape of sample:\", sample_x.shape) \n",
    "conv1, conv2, conv3,out = cnn(sample_x, visualize_filter=True)\n",
    "print(conv1.shape, conv2.shape, conv3.shape, out.shape)"
   ]
  },
  {
   "cell_type": "markdown",
   "id": "13896026-c26f-492b-a1d3-eb3094e47635",
   "metadata": {},
   "source": [
    "### Train the model"
   ]
  },
  {
   "cell_type": "code",
   "execution_count": 22,
   "id": "6876155f-8a43-4cea-83db-aacdf84c053c",
   "metadata": {},
   "outputs": [],
   "source": [
    "# To check the time period.\n",
    "start_time = time.time() \n",
    "time_interval = time.time() - start_time"
   ]
  },
  {
   "cell_type": "code",
   "execution_count": 23,
   "id": "3c11b963-6cac-4bd2-ad87-4aa4cb479805",
   "metadata": {},
   "outputs": [],
   "source": [
    "class Trainer(nn.Module):\n",
    "    def __init__(self, model, opt=\"adam\", lr=0.001, has_scheduler=False, device=\"cpu\"):\n",
    "        \"\"\"\n",
    "        Args:\n",
    "        model: A classification model that you want to use\n",
    "        n_class: Number of class \n",
    "        opt: Optimizer\n",
    "        lr: Learning rate\n",
    "        has_scheduler: True if you want to use the learning rate scheduler\n",
    "        device: Device that you are using for the training(cpu/cuda).\n",
    "        \"\"\"\n",
    "        super().__init__()\n",
    "\n",
    "        self.model = model \n",
    "        self.loss = nn.CrossEntropyLoss()\n",
    "\n",
    "        self._get_optimizer(opt=opt.lower(), lr=lr)\n",
    "        self.has_scheduler = has_scheduler\n",
    "        if self.has_scheduler:\n",
    "            self._get_scheduler()\n",
    "\n",
    "        self.device = device\n",
    "\n",
    "    def _get_optimizer(self, opt, lr=0.001):\n",
    "        \"\"\"\n",
    "        Args:\n",
    "        opt: Optimizer\n",
    "        lr: Learning rate\n",
    "        \"\"\"\n",
    "        if opt == \"sgd\":\n",
    "            self.optimizer = torch.optim.SGD(params=self.model.parameters(), lr=lr)\n",
    "        elif opt == \"adam\":\n",
    "            self.optimizer = torch.optim.Adam(params=self.model.parameters(), lr=lr)\n",
    "        else:\n",
    "            raise ValueError(f\"Optimizer {opt} is not supproted.\")\n",
    "\n",
    "    def _get_scheduler(self):\n",
    "        # self.scheduler = torch.optim.lr_scheduler.StepLR(optimizer=self.optimizer, step_size=5, gamma=0.5, verbose=True)\n",
    "        self.scheduler = torch.optim.lr_scheduler.LambdaLR(optimizer=self.optimizer, lr_lambda=lambda epoch: 0.95**epoch)\n",
    "\n",
    "    def train(self, train_loader, valid_loader, max_epochs=10, disp_epoch=5):\n",
    "        \"\"\"\n",
    "        A function to train the CNN model.\n",
    "        Args:\n",
    "        train_loader: Train dataset loader\n",
    "        valid_loader: Validation dataset loader\n",
    "        max_epochs: Number of epochs\n",
    "        disp_epochs: Number of epoch frequency to display training logs\n",
    "        \"\"\"\n",
    "        print(\"===== Train Starts. =====\")\n",
    "        start_time = time.time()   \n",
    "        history = {\"train_loss\": [], \"train_acc\": [], \"valid_loss\": [], \"valid_acc\": []}\n",
    "        for e in range(max_epochs):\n",
    "            train_loss, train_acc = self._train_epoch(train_loader)\n",
    "            valid_loss, valid_acc = self._valid_epoch(valid_loader)\n",
    "            \n",
    "            # Record the performances.\n",
    "            history[\"train_loss\"].append(train_loss)\n",
    "            history[\"train_acc\"].append(train_acc)\n",
    "            history[\"valid_loss\"].append(valid_loss)\n",
    "            history[\"valid_acc\"].append(valid_acc)\n",
    "\n",
    "            if self.has_scheduler: # Step size will be adjusted if the scheduler is on.\n",
    "                self.scheduler.step()\n",
    "\n",
    "            if e % disp_epoch == 0:\n",
    "                print(f\"Epoch: {e}, train loss: {train_loss:>6f}, train acc: {train_acc:>3f}, valid loss: {valid_loss:>6f}, valid acc: {valid_acc:>3f}, time: {time.time()-start_time:>3f}\")\n",
    "                start_time = time.time()   \n",
    "\n",
    "        self.plot_history(history)\n",
    "\n",
    "    def _train_epoch(self, train_loader):\n",
    "        \"\"\"\n",
    "        A function that trains the model by each epoch\n",
    "        Args:\n",
    "        train_loader: Train dataset loader\n",
    "        Returns: Average loss and accuracy\n",
    "        \"\"\"\n",
    "        epoch_loss, epoch_acc = 0, 0\n",
    "        self.model.train()\n",
    "        for (x, y) in train_loader:\n",
    "            x = x.to(self.device)\n",
    "            y = y.to(self.device)\n",
    "\n",
    "            y_hat = self.model(x) # Predicted label by the model \n",
    "            loss = self.loss(y_hat, y)       \n",
    "\n",
    "            self.optimizer.zero_grad() # Update network parameters through backwardpass\n",
    "            loss.backward()\n",
    "            self.optimizer.step() \n",
    "\n",
    "            epoch_loss += loss.to(\"cpu\").item()    \n",
    "            epoch_acc += (y_hat.argmax(1) == y).type(torch.float).to(\"cpu\").mean().item()\n",
    "\n",
    "        epoch_loss /= len(train_loader)  \n",
    "        epoch_acc /= len(train_loader)\n",
    "\n",
    "        return epoch_loss, epoch_acc\n",
    "\n",
    "    def _valid_epoch(self, valid_loader):\n",
    "        \"\"\"\n",
    "        A function that evaluate the current model with validation dataset.\n",
    "        Args:\n",
    "        valid_loader: Validation dataset loader\n",
    "        Returns: Average loss and accuracy\n",
    "        \"\"\"\n",
    "        epoch_loss, epoch_acc = 0, 0\n",
    "        self.model.eval() # Change the mode for the evaluation.\n",
    "        with torch.no_grad(): # Do not calculate the gradient loss to the model.\n",
    "            for (x, y) in valid_loader:\n",
    "                x = x.to(self.device)\n",
    "                y = y.to(self.device)\n",
    "\n",
    "                y_hat = self.model(x)\n",
    "                loss = self.loss(y_hat, y)\n",
    "\n",
    "                epoch_loss += loss.to(\"cpu\").item()\n",
    "                epoch_acc += (y_hat.argmax(1) == y).type(torch.float).to(\"cpu\").mean().item()\n",
    "\n",
    "        epoch_loss /= len(valid_loader)\n",
    "        epoch_acc /= len(valid_loader)\n",
    "\n",
    "        return epoch_loss, epoch_acc\n",
    "\n",
    "    def plot_history(self, history):\n",
    "        \"\"\"\n",
    "        Plot the history\n",
    "        Args:\n",
    "        history: dictionary with keys {\"train_loss\", \"train_acc\", \"valid_loss\", \"valid_acc\" }\n",
    "        \"\"\"\n",
    "        fig = plt.figure(figsize=(20, 10))\n",
    "\n",
    "        ax = fig.add_subplot(1, 2, 1)\n",
    "        ax.plot(history[\"train_loss\"], color=\"red\", label=\"train loss\")\n",
    "        ax.plot(history[\"valid_loss\"], color=\"blue\", label=\"valid loss\")\n",
    "        ax.set_title(\"Loss\")\n",
    "        ax.legend()\n",
    "\n",
    "        ax = fig.add_subplot(1, 2, 2)\n",
    "        ax.plot(history[\"train_acc\"], color=\"red\", label=\"train acc\")\n",
    "        ax.plot(history[\"valid_acc\"], color=\"blue\", label=\"valid acc\")\n",
    "        ax.set_title(\"Acc\")\n",
    "        ax.legend()\n",
    "\n",
    "    def test(self, test_loader):\n",
    "        \"\"\"\n",
    "        A function to evaluate the model with test dataset.\n",
    "        Args:\n",
    "        test_loader: Test dataset loader\n",
    "        Returns: Average loss and accuracy\n",
    "        \"\"\"\n",
    "        print(\"===== Test Starts. =====\")\n",
    "        start_time = time.time()\n",
    "        epoch_loss, epoch_acc = 0, 0\n",
    "        self.model.eval()\n",
    "        with torch.no_grad():\n",
    "            for (x, y) in test_loader:\n",
    "                x = x.to(self.device)\n",
    "                y = y.to(self.device)\n",
    "\n",
    "                y_hat = self.model(x)\n",
    "                loss = self.loss(y_hat, y)\n",
    "\n",
    "                epoch_loss += loss.to(\"cpu\").item()\n",
    "                epoch_acc += (y_hat.argmax(1) == y).type(torch.float).to(\"cpu\").mean().item()\n",
    "\n",
    "        epoch_loss /= len(test_loader)\n",
    "        epoch_acc /= len(test_loader)\n",
    "\n",
    "        print(f\"Test loss: {epoch_loss:>6f}, Test acc: {epoch_acc:>3f}, time: {time.time()-start_time:>3f}\")"
   ]
  },
  {
   "cell_type": "code",
   "execution_count": 26,
   "id": "4fba7bfb-5eb6-41ee-812d-635a68c59177",
   "metadata": {},
   "outputs": [
    {
     "name": "stdout",
     "output_type": "stream",
     "text": [
      "===== Train Starts. =====\n",
      "Epoch: 0, train loss: 0.307657, train acc: 0.903062, valid loss: 0.081574, valid acc: 0.975470, time: 69.682068\n",
      "Epoch: 1, train loss: 0.080209, train acc: 0.974681, valid loss: 0.061993, valid acc: 0.982863, time: 68.043476\n",
      "Epoch: 2, train loss: 0.057761, train acc: 0.982188, valid loss: 0.047060, valid acc: 0.985215, time: 59.548827\n",
      "Epoch: 3, train loss: 0.046549, train acc: 0.985320, valid loss: 0.042013, valid acc: 0.987903, time: 58.087728\n",
      "Epoch: 4, train loss: 0.038137, train acc: 0.987248, valid loss: 0.041340, valid acc: 0.989583, time: 64.624357\n",
      "Epoch: 5, train loss: 0.032436, train acc: 0.989231, valid loss: 0.035501, valid acc: 0.990591, time: 62.583922\n",
      "Epoch: 6, train loss: 0.028088, train acc: 0.990677, valid loss: 0.045345, valid acc: 0.987399, time: 61.463712\n",
      "Epoch: 7, train loss: 0.023953, train acc: 0.991974, valid loss: 0.040428, valid acc: 0.990255, time: 61.595387\n",
      "Epoch: 8, train loss: 0.020641, train acc: 0.993198, valid loss: 0.040001, valid acc: 0.990927, time: 61.262264\n",
      "Epoch: 9, train loss: 0.018183, train acc: 0.994180, valid loss: 0.039521, valid acc: 0.991431, time: 56.768258\n",
      "Training time : 623.749763\n",
      "===== Test Start =====\n",
      "Test loss: 0.034119, Test acc: 0.990385, time: 6.677152\n"
     ]
    },
    {
     "data": {
      "image/png": "[encoded data removed]",
      "text/plain": [
       "<Figure size 2000x1000 with 2 Axes>"
      ]
     },
     "metadata": {},
     "output_type": "display_data"
    }
   ],
   "source": [
    "device = \"cpu\" # \"cuda\" if you are using GPU.\n",
    "cnn = SimpleCNNClassifier(n_class=10)\n",
    "\n",
    "trainer = Trainer(model=cnn,\n",
    "                  opt=\"adam\", \n",
    "                  lr=0.001, \n",
    "                  has_scheduler=False, \n",
    "                  device=device).to(device)\n",
    "start_time = time.time()\n",
    "\n",
    "trainer.train(train_loader, valid_loader, max_epochs=10, disp_epoch=1)\n",
    "\n",
    "print(f\"Training time : {time.time()-start_time:>3f}\")\n",
    "trainer.test(test_loader)"
   ]
  },
  {
   "cell_type": "code",
   "execution_count": 27,
   "id": "350e8162-a382-43bb-aacc-abc31c6cb3d8",
   "metadata": {},
   "outputs": [
    {
     "name": "stdout",
     "output_type": "stream",
     "text": [
      "Model's state_dict:\n",
      "conv1.weight, \t torch.Size([32, 1, 5, 5])\n",
      "conv1.bias, \t torch.Size([32])\n",
      "conv2.weight, \t torch.Size([32, 32, 3, 3])\n",
      "conv2.bias, \t torch.Size([32])\n",
      "conv3.weight, \t torch.Size([32, 32, 3, 3])\n",
      "conv3.bias, \t torch.Size([32])\n",
      "fc1.weight, \t torch.Size([32, 288])\n",
      "fc1.bias, \t torch.Size([32])\n",
      "fc2.weight, \t torch.Size([10, 32])\n",
      "fc2.bias, \t torch.Size([10])\n"
     ]
    }
   ],
   "source": [
    "print(\"Model's state_dict:\")\n",
    "for param_tensor in cnn.state_dict():\n",
    "    print(f\"{param_tensor}, \\t {cnn.state_dict()[param_tensor].size()}\")"
   ]
  },
  {
   "cell_type": "code",
   "execution_count": null,
   "id": "6b807d46-b8a5-44f1-84d3-4acc7a2a4ede",
   "metadata": {},
   "outputs": [],
   "source": [
    "# Save the model.\n",
    "model_dir = os.path.join(os.getcwd(), \"model\", \"CNN_model\")\n",
    "if not os.path.exists(model_dir): os.makedirs(model_dir) # If model_dir doesn't exist.\n",
    "torch.save(cnn.state_dict(), os.path.join(model_dir, \"SimpleCNNClassifier.pth\"))"
   ]
  },
  {
   "cell_type": "code",
   "execution_count": null,
   "id": "9f4aa25d-5604-441f-94db-5b4ac2aa3555",
   "metadata": {},
   "outputs": [],
   "source": [
    "# Load the model.\n",
    "model_path = os.path.join(model_dir, \"SimpleCNNClassifier.pth\")\n",
    "cnn_load.load_state_dict(torch.load(model_path))\n",
    "cnn_load.eval()"
   ]
  },
  {
   "cell_type": "code",
   "execution_count": 28,
   "id": "5fb3ac80-e297-48b6-a604-bed63507a90a",
   "metadata": {},
   "outputs": [
    {
     "name": "stdout",
     "output_type": "stream",
     "text": [
      "===== Test Start =====\n",
      "Test loss: 2.306246, Test acc: 0.099259, time: 5.953084\n"
     ]
    }
   ],
   "source": [
    "# Check the performance of the untrained model.\n",
    "cnn_load = SimpleCNNClassifier(n_class=10)\n",
    "trainer_not_load = Trainer(model=cnn_load, \n",
    "                           opt=\"adam\", \n",
    "                           lr=0.001, \n",
    "                           has_scheduler=False, \n",
    "                           device=device).to(device)\n",
    "\n",
    "trainer_not_load.test(test_loader)"
   ]
  },
  {
   "cell_type": "code",
   "execution_count": null,
   "id": "a5898aa1-6e3d-4ba4-946f-ec9b0dc3aa02",
   "metadata": {},
   "outputs": [],
   "source": []
  },
  {
   "cell_type": "code",
   "execution_count": null,
   "id": "e99a064f-00a5-4973-bd4f-43ae54fd4a71",
   "metadata": {},
   "outputs": [],
   "source": []
  }
 ],
 "metadata": {
  "kernelspec": {
   "display_name": "Python 3 (ipykernel)",
   "language": "python",
   "name": "python3"
  },
  "language_info": {
   "codemirror_mode": {
    "name": "ipython",
    "version": 3
   },
   "file_extension": ".py",
   "mimetype": "text/x-python",
   "name": "python",
   "nbconvert_exporter": "python",
   "pygments_lexer": "ipython3",
   "version": "3.9.12"
  }
 },
 "nbformat": 4,
 "nbformat_minor": 5
}
